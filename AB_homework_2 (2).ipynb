{
 "cells": [
  {
   "cell_type": "code",
   "execution_count": 1,
   "id": "775e8264-f6d3-4c89-b043-d9b1fa43ca02",
   "metadata": {},
   "outputs": [],
   "source": [
    "import pandahouse\n",
    "import scipy.stats as stats\n",
    "import seaborn as sns\n",
    "import numpy as np\n",
    "import pandas as pd\n",
    "#\n",
    "class Getch:\n",
    "    def __init__(self, query, db='simulator_20220720'):\n",
    "        self.connection = {\n",
    "            'host': 'https://clickhouse.lab.karpov.courses',\n",
    "            'password': 'dpo_python_2020',\n",
    "            'user': 'student',\n",
    "            'database': db,\n",
    "        }\n",
    "        self.query = query\n",
    "        self.getchdf\n",
    "\n",
    "    @property\n",
    "    def getchdf(self):\n",
    "        try:\n",
    "            self.df = pandahouse.read_clickhouse(self.query, connection=self.connection)\n",
    "\n",
    "        except Exception as err:\n",
    "            print(\"\\033[31m {}\".format(err))\n",
    "            exit(0)"
   ]
  },
  {
   "cell_type": "code",
   "execution_count": 2,
   "id": "239b8804-c031-4a39-b42e-3968209aaaae",
   "metadata": {},
   "outputs": [],
   "source": [
    "data = Getch(''' SELECT user_id, exp_group,\n",
    "                countIf(action, action='like') as likes,\n",
    "                countIf(action, action='view') as views,\n",
    "                countIf(action, action='like') / countIf(action, action='view') as ctr\n",
    "                FROM {db}.feed_actions\n",
    "                WHERE time >=  toUnixTimestamp('2022-06-13')\n",
    "                AND time <= toUnixTimestamp('2022-06-19')\n",
    "                AND (exp_group = 2 or exp_group = 1)\n",
    "                GROUP BY user_id, exp_group\n",
    "                Order by user_id''').df"
   ]
  },
  {
   "cell_type": "code",
   "execution_count": 3,
   "id": "b77c4fb9-c2fe-40f8-bdc0-a38d4e6a8283",
   "metadata": {},
   "outputs": [],
   "source": [
    "data_1 = data.query('exp_group == 1')\n",
    "data_2 = data.query('exp_group == 2')"
   ]
  },
  {
   "cell_type": "markdown",
   "id": "2e9b9d21-b8d1-474e-8e54-195a947c85dc",
   "metadata": {},
   "source": [
    "# CTR"
   ]
  },
  {
   "cell_type": "code",
   "execution_count": 4,
   "id": "b957bb9f-618d-40ff-aa6d-2820e20f3db2",
   "metadata": {},
   "outputs": [
    {
     "data": {
      "image/png": "[encoded data removed]",
      "text/plain": [
       "<Figure size 432x288 with 1 Axes>"
      ]
     },
     "metadata": {
      "needs_background": "light"
     },
     "output_type": "display_data"
    }
   ],
   "source": [
    "sns.histplot(data=data, x='ctr', hue='exp_group', palette = ['r', 'g']);"
   ]
  },
  {
   "cell_type": "code",
   "execution_count": 5,
   "id": "935f1cdd-ccbf-4fd2-9d91-39e5c5099020",
   "metadata": {},
   "outputs": [
    {
     "data": {
      "text/plain": [
       "Ttest_indResult(statistic=0.536209812127344, pvalue=0.5918218427419375)"
      ]
     },
     "execution_count": 5,
     "metadata": {},
     "output_type": "execute_result"
    }
   ],
   "source": [
    "stats.ttest_ind(data_1.ctr, data_2.ctr, equal_var = False)"
   ]
  },
  {
   "cell_type": "code",
   "execution_count": 6,
   "id": "7fd8b4f5-dda4-4a73-84ad-b17dafb6359e",
   "metadata": {},
   "outputs": [
    {
     "data": {
      "text/plain": [
       "MannwhitneyuResult(statistic=49702070.0, pvalue=3.4218087630007513e-67)"
      ]
     },
     "execution_count": 6,
     "metadata": {},
     "output_type": "execute_result"
    }
   ],
   "source": [
    "stats.mannwhitneyu(data_1.ctr, data_2.ctr, alternative='two-sided')"
   ]
  },
  {
   "cell_type": "markdown",
   "id": "13f7124d-f298-4435-9068-32f719c4320a",
   "metadata": {},
   "source": [
    "Распределения визуально резко отличаются, в контрольной группе походит на нормальное со сдвигом вправо, в экспериментальное группе бимодальное. Т-тест не дает статитсически значимой разницы (и его применение при таком распределении неоправдано), в отличие от Манна-Уитни."
   ]
  },
  {
   "cell_type": "markdown",
   "id": "69367f3e-a96a-475a-91ad-2de2e776be83",
   "metadata": {},
   "source": [
    "# Smoothed CTR"
   ]
  },
  {
   "cell_type": "code",
   "execution_count": 7,
   "id": "bc61fa5d-a91f-4141-bafd-ca75ba507762",
   "metadata": {},
   "outputs": [],
   "source": [
    "global_ctr_1 = data_1.likes.sum() / data_1.views.sum()\n",
    "global_ctr_2 = data_2.likes.sum() / data_2.views.sum()"
   ]
  },
  {
   "cell_type": "code",
   "execution_count": 8,
   "id": "3de583de-2100-4b37-9478-b417311f76d2",
   "metadata": {},
   "outputs": [],
   "source": [
    "data['global_ctr'] = data.exp_group.apply(lambda x: global_ctr_1 if x == 1 else global_ctr_2)"
   ]
  },
  {
   "cell_type": "code",
   "execution_count": 9,
   "id": "38c71117-1a54-4609-a07e-3c88124d42ab",
   "metadata": {},
   "outputs": [],
   "source": [
    "data['smoothed_ctr'] = (data.likes + 5 * data.global_ctr) / (5 + data.views)"
   ]
  },
  {
   "cell_type": "code",
   "execution_count": 10,
   "id": "d5bf283e-b55d-4159-96e3-24200468c390",
   "metadata": {},
   "outputs": [
    {
     "data": {
      "image/png": "[encoded data removed]",
      "text/plain": [
       "<Figure size 432x288 with 1 Axes>"
      ]
     },
     "metadata": {
      "needs_background": "light"
     },
     "output_type": "display_data"
    }
   ],
   "source": [
    "sns.histplot(data=data, x='smoothed_ctr', hue='exp_group', palette = ['r', 'g']);"
   ]
  },
  {
   "cell_type": "code",
   "execution_count": 11,
   "id": "c41ed76a-6164-447b-abbc-a7de6b108246",
   "metadata": {},
   "outputs": [],
   "source": [
    "data_1 = data.query('exp_group == 1')\n",
    "data_2 = data.query('exp_group == 2')"
   ]
  },
  {
   "cell_type": "code",
   "execution_count": 12,
   "id": "d4312508-cad4-4c58-a13d-5cad015d80f6",
   "metadata": {
    "tags": []
   },
   "outputs": [
    {
     "data": {
      "text/plain": [
       "Ttest_indResult(statistic=2.399959074862206, pvalue=0.016409722243995905)"
      ]
     },
     "execution_count": 12,
     "metadata": {},
     "output_type": "execute_result"
    }
   ],
   "source": [
    "stats.ttest_ind(data_1.smoothed_ctr, data_2.smoothed_ctr, equal_var=False)"
   ]
  },
  {
   "cell_type": "code",
   "execution_count": 13,
   "id": "e8296457-c644-4d9e-b3e4-eb6437177715",
   "metadata": {},
   "outputs": [
    {
     "data": {
      "text/plain": [
       "MannwhitneyuResult(statistic=50009116.0, pvalue=1.1696569293279285e-73)"
      ]
     },
     "execution_count": 13,
     "metadata": {},
     "output_type": "execute_result"
    }
   ],
   "source": [
    "stats.mannwhitneyu(data_1.smoothed_ctr, data_2.smoothed_ctr, alternative='two-sided')"
   ]
  },
  {
   "cell_type": "markdown",
   "id": "a65810ec-6ea6-4fa1-8928-b69b9c9412de",
   "metadata": {},
   "source": [
    "При сглаживании CTR визуально распределения похожи на обычный CTR, однако т-тест начал ловить разницу"
   ]
  },
  {
   "cell_type": "markdown",
   "id": "b07978fb-2d22-4f01-857f-c75ae66362dc",
   "metadata": {},
   "source": [
    "# Poisson-Bootstrap"
   ]
  },
  {
   "cell_type": "code",
   "execution_count": 14,
   "id": "b3e170c9-298b-4eca-a1b9-ca62860742ea",
   "metadata": {},
   "outputs": [],
   "source": [
    "def bootstrap(likes_1, likes_2, views_1, views_2, n_bootstrap):\n",
    "    weights_1 = stats.poisson(1).rvs((n_bootstrap, len(likes_1))).astype(np.int64)\n",
    "    weights_2 = stats.poisson(1).rvs((n_bootstrap, len(likes_2))).astype(np.int64)\n",
    "    global_ctr_1 = (weights_1 * likes_1).sum(axis=1) / (weights_1 * views_1).sum(axis=1)\n",
    "    global_ctr_2 = (weights_2 * likes_2).sum(axis=1) / (weights_2 * views_2).sum(axis=1)\n",
    "    return global_ctr_1, global_ctr_2\n",
    "\n",
    "likes_1 = data_1.likes.to_numpy()\n",
    "likes_2 = data_2.likes.to_numpy()\n",
    "views_1 = data_1.views.to_numpy()\n",
    "views_2 = data_2.views.to_numpy()\n",
    "\n",
    "global_ctr_1, global_ctr_2 = bootstrap(likes_1, likes_2, views_1, views_2, 1000)"
   ]
  },
  {
   "cell_type": "code",
   "execution_count": 15,
   "id": "01a54410-f02e-43a8-b38a-d7032c3fcc69",
   "metadata": {},
   "outputs": [
    {
     "data": {
      "image/png": "[encoded data removed]",
      "text/plain": [
       "<Figure size 432x288 with 1 Axes>"
      ]
     },
     "metadata": {
      "needs_background": "light"
     },
     "output_type": "display_data"
    }
   ],
   "source": [
    "sns.histplot(global_ctr_1, color='r')\n",
    "sns.histplot(global_ctr_2, color='g');"
   ]
  },
  {
   "cell_type": "markdown",
   "id": "65076214-a334-40eb-809a-afcce450fcf1",
   "metadata": {},
   "source": [
    "После бутстрапирования разница между группами очевидна, CTR контрольной группы  выше, распределение уже"
   ]
  },
  {
   "cell_type": "markdown",
   "id": "409a7b9b-f6e3-4387-ab63-79c90f9139f6",
   "metadata": {},
   "source": [
    "# Bucketing"
   ]
  },
  {
   "cell_type": "code",
   "execution_count": 16,
   "id": "68247959-fac6-4572-bdfa-d20bf5512426",
   "metadata": {},
   "outputs": [],
   "source": [
    "import hashlib"
   ]
  },
  {
   "cell_type": "code",
   "execution_count": 17,
   "id": "df28ca45-de36-4e35-9a2a-5c5167d179da",
   "metadata": {},
   "outputs": [],
   "source": [
    "def bucketing(id, salt='bucket', n_groups = 50):\n",
    "    bucket_id = str(id) + '-' + str(salt)\n",
    "    bucket_id_digest = hashlib.md5(bucket_id.encode('ascii')).hexdigest()\n",
    "    bucket_id_f = int(bucket_id_digest, 16)\n",
    "    return bucket_id_f % n_groups"
   ]
  },
  {
   "cell_type": "code",
   "execution_count": 18,
   "id": "0daa03bd-7065-42e6-9f62-cac13718e19f",
   "metadata": {},
   "outputs": [],
   "source": [
    "data['buckets'] = data.user_id.apply(bucketing)"
   ]
  },
  {
   "cell_type": "code",
   "execution_count": 19,
   "id": "30a371eb-f622-4023-acb1-9fc65f580b1c",
   "metadata": {},
   "outputs": [],
   "source": [
    "buckets = data.groupby(['exp_group', 'buckets']).sum().reset_index()"
   ]
  },
  {
   "cell_type": "code",
   "execution_count": 20,
   "id": "5bf29d2b-cb62-4809-b37a-65862cdacaea",
   "metadata": {},
   "outputs": [],
   "source": [
    "buckets['bucket_ctr'] = buckets.likes / buckets.views"
   ]
  },
  {
   "cell_type": "code",
   "execution_count": 21,
   "id": "dfa199e7-fa46-406a-a2ad-4c318068799a",
   "metadata": {},
   "outputs": [
    {
     "data": {
      "image/png": "[encoded data removed]",
      "text/plain": [
       "<Figure size 432x288 with 1 Axes>"
      ]
     },
     "metadata": {
      "needs_background": "light"
     },
     "output_type": "display_data"
    }
   ],
   "source": [
    "sns.histplot(buckets, hue='exp_group', x='bucket_ctr', palette = ['r', 'g']);"
   ]
  },
  {
   "cell_type": "code",
   "execution_count": 22,
   "id": "a3a0f2be-1ae4-49d5-b766-3082308447f9",
   "metadata": {},
   "outputs": [
    {
     "data": {
      "text/plain": [
       "MannwhitneyuResult(statistic=2071.0, pvalue=1.5459969290584077e-08)"
      ]
     },
     "execution_count": 22,
     "metadata": {},
     "output_type": "execute_result"
    }
   ],
   "source": [
    "stats.mannwhitneyu(buckets[buckets.exp_group == 1].bucket_ctr, \n",
    "                   buckets[buckets.exp_group == 2].bucket_ctr, \n",
    "                   alternative = 'two-sided')"
   ]
  },
  {
   "cell_type": "code",
   "execution_count": 23,
   "id": "2a3332d6-964b-4a20-91d7-9602cb1c4b4f",
   "metadata": {},
   "outputs": [
    {
     "data": {
      "text/plain": [
       "Ttest_indResult(statistic=6.750858459345024, pvalue=3.9090316443901246e-09)"
      ]
     },
     "execution_count": 23,
     "metadata": {},
     "output_type": "execute_result"
    }
   ],
   "source": [
    "stats.ttest_ind(buckets[buckets.exp_group == 1].bucket_ctr, \n",
    "                   buckets[buckets.exp_group == 2].bucket_ctr,\n",
    "                   equal_var=False)"
   ]
  },
  {
   "cell_type": "markdown",
   "id": "1f929923-929d-4e6a-b52d-e5831ffbd1ae",
   "metadata": {},
   "source": [
    "При разбивке на 50 бакетов и Т-критерий. и Манн-Уитни дают статистически значимые отличия"
   ]
  },
  {
   "cell_type": "code",
   "execution_count": null,
   "id": "4e6323f7-e002-4e7e-8608-f816fe2f552b",
   "metadata": {},
   "outputs": [],
   "source": []
  }
 ],
 "metadata": {
  "kernelspec": {
   "display_name": "Python 3 (ipykernel)",
   "language": "python",
   "name": "python3"
  },
  "language_info": {
   "codemirror_mode": {
    "name": "ipython",
    "version": 3
   },
   "file_extension": ".py",
   "mimetype": "text/x-python",
   "name": "python",
   "nbconvert_exporter": "python",
   "pygments_lexer": "ipython3",
   "version": "3.8.10"
  }
 },
 "nbformat": 4,
 "nbformat_minor": 5
}
